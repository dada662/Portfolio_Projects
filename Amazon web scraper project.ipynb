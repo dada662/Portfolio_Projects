{
 "cells": [
  {
   "cell_type": "code",
   "execution_count": 86,
   "id": "298580e7-338d-4cf4-be8f-42ae0ab1b667",
   "metadata": {},
   "outputs": [],
   "source": [
    "# Import libraries\n",
    "\n",
    "from bs4 import BeautifulSoup\n",
    "import requests\n",
    "import time\n",
    "import datetime\n",
    "\n",
    "import smtplib"
   ]
  },
  {
   "cell_type": "code",
   "execution_count": 88,
   "id": "540f2727-e976-47ec-9ace-1634656b7050",
   "metadata": {},
   "outputs": [
    {
     "name": "stdout",
     "output_type": "stream",
     "text": [
      "Got Data Funny Business Data Analyst T-Shirt\n",
      "$18.99\n"
     ]
    }
   ],
   "source": [
    "# Connect to website\n",
    "URL = 'https://www.amazon.com/Funny-Data-Systems-Business-Analyst/dp/B07FNW9FGJ/ref=sr_1_3?dchild=1&keywords=data%2Banalyst%2Btshirt&qid=1626655184&sr=8-3&customId=B07537H5TD&th=1&customizationToken=MC_Assembly_1%23B07537H5TD&psc=1'\n",
    "\n",
    "headers = {\"User-Agent\": \"Mozilla/5.0 (Windows NT 10.0; Win64; x64) AppleWebKit/537.36 (KHTML, like Gecko) Chrome/130.0.0.0 Safari/537.36 OPR/115.0.0.0\", \"Accept-Encoding\": \"gzip, deflate, br, zstd\", \"Accept\": \"text/html,application/xhtml+xml,application/xml;q=0.9,image/avif,image/webp,image/apng,*/*;q=0.8,application/signed-exchange;v=b3;q=0.7\", \"DNT\":\"1\",\"Connection\":\"close\", \"Upgrade-Insecure-Requests\":\"1\"}\n",
    "\n",
    "page = requests.get(URL, headers=headers)\n",
    "\n",
    "soup1 = BeautifulSoup(page.content, \"html.parser\")\n",
    "\n",
    "soup2 = BeautifulSoup(soup1.prettify(), 'html.parser')\n",
    "\n",
    "\n",
    "title = soup2.find(id='productTitle').get_text(strip=True)\n",
    "\n",
    "# Extract the price parts\n",
    "price_symbol = soup2.find('span', class_='a-price-symbol').get_text(strip=True)\n",
    "price_whole = soup2.find('span', class_='a-price-whole').get_text(strip=True)\n",
    "price_fraction = soup2.find('span', class_='a-price-fraction').get_text(strip=True)\n",
    "\n",
    "# Combine the parts into a full price\n",
    "price = f\"{price_symbol}{price_whole}{price_fraction}\"\n",
    "#price = soup2.find('span', class_='a-price a-text-price').get_text()\n",
    "\n",
    "print(title)\n",
    "print(price)\n"
   ]
  },
  {
   "cell_type": "code",
   "execution_count": 90,
   "id": "c685c87a-ead8-481e-9543-1f7dfa036c7f",
   "metadata": {},
   "outputs": [],
   "source": [
    "price = price.strip()[1:]"
   ]
  },
  {
   "cell_type": "code",
   "execution_count": 100,
   "id": "f1715ba9-09ae-436b-9a16-4514ba23e8d5",
   "metadata": {},
   "outputs": [
    {
     "name": "stdout",
     "output_type": "stream",
     "text": [
      "2024-12-29\n"
     ]
    }
   ],
   "source": [
    "today = datetime.date.today()\n",
    "print(today)"
   ]
  },
  {
   "cell_type": "code",
   "execution_count": 102,
   "id": "9d75e6af-079b-4d47-abc1-39c04386a54d",
   "metadata": {},
   "outputs": [
    {
     "data": {
      "text/plain": [
       "list"
      ]
     },
     "execution_count": 102,
     "metadata": {},
     "output_type": "execute_result"
    }
   ],
   "source": [
    "import csv\n",
    "\n",
    "header = ['Title', 'Price', 'Date']\n",
    "data = [title, price, today]\n",
    "\n",
    "type(data)"
   ]
  },
  {
   "cell_type": "code",
   "execution_count": null,
   "id": "33494ec9-5244-4f3d-8082-c1deb4488b36",
   "metadata": {
    "scrolled": true
   },
   "outputs": [],
   "source": [
    "with open('AmznWebScrapDataset.csv', 'w', newline='', encoding='UTF8') as f:\n",
    "    writer = csv.writer(f)\n",
    "    writer.writerow(header)\n",
    "    writer.writerow(data)"
   ]
  },
  {
   "cell_type": "code",
   "execution_count": null,
   "id": "cf1449f0-4dfe-4dc4-8329-f6fd3d23e024",
   "metadata": {},
   "outputs": [],
   "source": [
    "import pandas as pd\n",
    "\n",
    "df = pd.read_csv(r'C:\\Users\\ghada\\AmznWebScrapDataset.csv')\n",
    "print(df)"
   ]
  },
  {
   "cell_type": "code",
   "execution_count": null,
   "id": "020b8864-c0c5-453a-b75a-9e473a01aa13",
   "metadata": {},
   "outputs": [],
   "source": [
    "# Append data to the csv\n",
    "\n",
    "with open('AmznWebScrapDataset.csv', 'a+', newline='', encoding='UTF8') as f:\n",
    "    writer = csv.writer(f)\n",
    "    writer.writerow(data)\n",
    "    \n",
    "    "
   ]
  },
  {
   "cell_type": "code",
   "execution_count": null,
   "id": "35caf9a9-0fee-4cb7-998c-70bd40e5ed3a",
   "metadata": {},
   "outputs": [],
   "source": [
    "def check_price():\n",
    "    URL = 'https://www.amazon.com/Funny-Data-Systems-Business-Analyst/dp/B07FNW9FGJ/ref=sr_1_3?dchild=1&keywords=data%2Banalyst%2Btshirt&qid=1626655184&sr=8-3&customId=B07537H5TD&th=1&customizationToken=MC_Assembly_1%23B07537H5TD&psc=1'\n",
    "\n",
    "    headers = {\"User-Agent\": \"Mozilla/5.0 (Windows NT 10.0; Win64; x64) AppleWebKit/537.36 (KHTML, like Gecko) Chrome/130.0.0.0 Safari/537.36 OPR/115.0.0.0\", \"Accept-Encoding\": \"gzip, deflate, br, zstd\", \"Accept\": \"text/html,application/xhtml+xml,application/xml;q=0.9,image/avif,image/webp,image/apng,*/*;q=0.8,application/signed-exchange;v=b3;q=0.7\", \"DNT\":\"1\",\"Connection\":\"close\", \"Upgrade-Insecure-Requests\":\"1\"}\n",
    "\n",
    "    page = requests.get(URL, headers=headers)\n",
    "\n",
    "    soup1 = BeautifulSoup(page.content, \"html.parser\")\n",
    "\n",
    "    soup2 = BeautifulSoup(soup1.prettify(), 'html.parser')\n",
    "\n",
    "\n",
    "    title = soup2.find(id='productTitle').get_text(strip=True)\n",
    "\n",
    "    # Extract the price parts\n",
    "    price_symbol = soup2.find('span', class_='a-price-symbol').get_text(strip=True)\n",
    "    price_whole = soup2.find('span', class_='a-price-whole').get_text(strip=True)\n",
    "    price_fraction = soup2.find('span', class_='a-price-fraction').get_text(strip=True)\n",
    "\n",
    "    # Combine the parts into a full price\n",
    "    price = f\"{price_symbol}{price_whole}{price_fraction}\"\n",
    "    price = price.strip()[1:]\n",
    "\n",
    "    today = datetime.date.today()\n",
    "\n",
    "    import csv\n",
    "\n",
    "    header = ['Title', 'Price', 'Date']\n",
    "    data = [title, price, today]\n",
    "\n",
    "    with open('AmznWebScrapDataset.csv', 'a+', newline='', encoding='UTF8') as f:\n",
    "        writer = csv.writer(f)\n",
    "        writer.writerow(data)\n",
    "        "
   ]
  },
  {
   "cell_type": "code",
   "execution_count": null,
   "id": "afa5345d-87ec-474c-9f36-7024121ea4c0",
   "metadata": {},
   "outputs": [],
   "source": [
    "while(True):\n",
    "    check_price()\n",
    "    time.sleep(86400)"
   ]
  },
  {
   "cell_type": "code",
   "execution_count": null,
   "id": "bc29740b-3345-4a03-95e9-5e53e0bb06c6",
   "metadata": {},
   "outputs": [],
   "source": [
    "import pandas as pd\n",
    "\n",
    "df = pd.read_csv(r'C:\\Users\\ghada\\AmznWebScrapDataset.csv')\n",
    "print(df)"
   ]
  },
  {
   "cell_type": "code",
   "execution_count": null,
   "id": "28ed076c-c124-47f0-8cba-310742224d51",
   "metadata": {},
   "outputs": [],
   "source": []
  },
  {
   "cell_type": "code",
   "execution_count": null,
   "id": "61d77604-b42c-4437-a7b5-a521a520c1c6",
   "metadata": {},
   "outputs": [],
   "source": []
  },
  {
   "cell_type": "code",
   "execution_count": null,
   "id": "a5f65e3b-aad9-49a0-a107-58f8375304b6",
   "metadata": {},
   "outputs": [],
   "source": []
  }
 ],
 "metadata": {
  "kernelspec": {
   "display_name": "Python [conda env:base] *",
   "language": "python",
   "name": "conda-base-py"
  },
  "language_info": {
   "codemirror_mode": {
    "name": "ipython",
    "version": 3
   },
   "file_extension": ".py",
   "mimetype": "text/x-python",
   "name": "python",
   "nbconvert_exporter": "python",
   "pygments_lexer": "ipython3",
   "version": "3.12.7"
  }
 },
 "nbformat": 4,
 "nbformat_minor": 5
}
